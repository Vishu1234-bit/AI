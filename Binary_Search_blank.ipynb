{
 "cells": [
  {
   "cell_type": "code",
   "execution_count": 17,
   "metadata": {},
   "outputs": [],
   "source": [
    "#Defines the type of search and the structure of the array\n",
    "def binarysearch(array,target):\n",
    "    left = 0\n",
    "    right = len(array)-1\n",
    "    while(left<=right):\n",
    "        midpoint = (left+right)//2\n",
    "        if(target>array[midpoint]):\n",
    "            left=midpoint+1\n",
    "        elif(target<array[midpoint]):\n",
    "            right = midpoint-1\n",
    "        else:\n",
    "            return midpoint\n",
    "    return None"
   ]
  },
  {
   "cell_type": "code",
   "execution_count": 18,
   "metadata": {},
   "outputs": [],
   "source": [
    "#Defines the number of values\n",
    "array = [1,8,3,2,8,4]"
   ]
  },
  {
   "cell_type": "code",
   "execution_count": 23,
   "metadata": {},
   "outputs": [
    {
     "name": "stdout",
     "output_type": "stream",
     "text": [
      "[1, 2, 3, 4, 8, 8]\n"
     ]
    }
   ],
   "source": [
    "#Sorts the vales\n",
    "array.sort()\n",
    "target = 2\n",
    "print(array)"
   ]
  },
  {
   "cell_type": "code",
   "execution_count": 20,
   "metadata": {},
   "outputs": [],
   "source": [
    "#Conducts a binar search\n",
    "result= binarysearch(array,target)"
   ]
  },
  {
   "cell_type": "code",
   "execution_count": 22,
   "metadata": {},
   "outputs": [
    {
     "name": "stdout",
     "output_type": "stream",
     "text": [
      "2 found at position 2\n"
     ]
    }
   ],
   "source": [
    "#Returns the results\n",
    "if result is not None:\n",
    "    print(\"{} found at position {}\".format(target,result+1))\n",
    "else:\n",
    "    print(\"Not found\")"
   ]
  },
  {
   "cell_type": "code",
   "execution_count": null,
   "metadata": {},
   "outputs": [],
   "source": []
  }
 ],
 "metadata": {
  "kernelspec": {
   "display_name": "Python 3",
   "language": "python",
   "name": "python3"
  },
  "language_info": {
   "codemirror_mode": {
    "name": "ipython",
    "version": 3
   },
   "file_extension": ".py",
   "mimetype": "text/x-python",
   "name": "python",
   "nbconvert_exporter": "python",
   "pygments_lexer": "ipython3",
   "version": "3.8.5"
  }
 },
 "nbformat": 4,
 "nbformat_minor": 4
}
