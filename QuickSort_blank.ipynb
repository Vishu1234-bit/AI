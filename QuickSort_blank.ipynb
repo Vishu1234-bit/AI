{
 "cells": [
  {
   "cell_type": "code",
   "execution_count": 14,
   "metadata": {},
   "outputs": [],
   "source": [
    "def partition(array,low,high):\n",
    "    i=low-1\n",
    "    print(\"i=\",i)\n",
    "    pivot=array[high]\n",
    "    print(\"pivot=\",pivot)\n",
    "    for j in range(low,high):\n",
    "        if(array[j]<=pivot):\n",
    "            print(array[j],\"<=\",pivot)\n",
    "            i+=1\n",
    "            print(\"i=\",i)\n",
    "            array[i],array[j] = array[j],array[i]\n",
    "            print(array[i],\",\",array[j],\"=\",array[j],\",\",array[i])\n",
    "    array[i+1],array[high] = array[high],array[i+1]\n",
    "    print(array[i+1],\",\",array[high],\"=\",array[high],\",\",array[i+1])\n",
    "    return (i+1)"
   ]
  },
  {
   "cell_type": "code",
   "execution_count": 31,
   "metadata": {},
   "outputs": [],
   "source": [
    "def quicksort(array,low,high):\n",
    "    if(low<high):\n",
    "        pi = partition(array,low,high)\n",
    "        print(pi)\n",
    "        print(f\"quicksort({array},{low},{pi-1})\")\n",
    "        quicksort(array,low,pi-1)\n",
    "        print(f\"quicksort({array},{pi+1},{high})\")\n",
    "        quicksort(array,pi+1,high)"
   ]
  },
  {
   "cell_type": "code",
   "execution_count": 32,
   "metadata": {},
   "outputs": [],
   "source": [
    "array = [1,0,4,2,3,5]"
   ]
  },
  {
   "cell_type": "code",
   "execution_count": 33,
   "metadata": {},
   "outputs": [
    {
     "name": "stdout",
     "output_type": "stream",
     "text": [
      "Unsorted array\n"
     ]
    }
   ],
   "source": [
    "print(\"Unsorted array\")"
   ]
  },
  {
   "cell_type": "code",
   "execution_count": 34,
   "metadata": {},
   "outputs": [
    {
     "name": "stdout",
     "output_type": "stream",
     "text": [
      "[1, 0, 4, 2, 3, 5]\n"
     ]
    }
   ],
   "source": [
    "print(array)"
   ]
  },
  {
   "cell_type": "code",
   "execution_count": 35,
   "metadata": {},
   "outputs": [],
   "source": [
    "low=0"
   ]
  },
  {
   "cell_type": "code",
   "execution_count": 36,
   "metadata": {},
   "outputs": [],
   "source": [
    "high=len(array)-1"
   ]
  },
  {
   "cell_type": "code",
   "execution_count": 37,
   "metadata": {},
   "outputs": [
    {
     "name": "stdout",
     "output_type": "stream",
     "text": [
      "i= -1\n",
      "pivot= 5\n",
      "1 <= 5\n",
      "i= 0\n",
      "1 , 1 = 1 , 1\n",
      "0 <= 5\n",
      "i= 1\n",
      "0 , 0 = 0 , 0\n",
      "4 <= 5\n",
      "i= 2\n",
      "4 , 4 = 4 , 4\n",
      "2 <= 5\n",
      "i= 3\n",
      "2 , 2 = 2 , 2\n",
      "3 <= 5\n",
      "i= 4\n",
      "3 , 3 = 3 , 3\n",
      "5 , 5 = 5 , 5\n",
      "5\n",
      "quicksort([1, 0, 4, 2, 3, 5],0,4)\n",
      "i= -1\n",
      "pivot= 3\n",
      "1 <= 3\n",
      "i= 0\n",
      "1 , 1 = 1 , 1\n",
      "0 <= 3\n",
      "i= 1\n",
      "0 , 0 = 0 , 0\n",
      "2 <= 3\n",
      "i= 2\n",
      "2 , 4 = 4 , 2\n",
      "3 , 4 = 4 , 3\n",
      "3\n",
      "quicksort([1, 0, 2, 3, 4, 5],0,2)\n",
      "i= -1\n",
      "pivot= 2\n",
      "1 <= 2\n",
      "i= 0\n",
      "1 , 1 = 1 , 1\n",
      "0 <= 2\n",
      "i= 1\n",
      "0 , 0 = 0 , 0\n",
      "2 , 2 = 2 , 2\n",
      "2\n",
      "quicksort([1, 0, 2, 3, 4, 5],0,1)\n",
      "i= -1\n",
      "pivot= 0\n",
      "0 , 1 = 1 , 0\n",
      "0\n",
      "quicksort([0, 1, 2, 3, 4, 5],0,-1)\n",
      "quicksort([0, 1, 2, 3, 4, 5],1,1)\n",
      "quicksort([0, 1, 2, 3, 4, 5],3,2)\n",
      "quicksort([0, 1, 2, 3, 4, 5],4,4)\n",
      "quicksort([0, 1, 2, 3, 4, 5],6,5)\n"
     ]
    }
   ],
   "source": [
    "quicksort(array,low,high)"
   ]
  },
  {
   "cell_type": "code",
   "execution_count": 10,
   "metadata": {},
   "outputs": [
    {
     "name": "stdout",
     "output_type": "stream",
     "text": [
      "Sorted array\n"
     ]
    }
   ],
   "source": [
    "print(\"Sorted array\")"
   ]
  },
  {
   "cell_type": "code",
   "execution_count": 11,
   "metadata": {},
   "outputs": [
    {
     "name": "stdout",
     "output_type": "stream",
     "text": [
      "[0, 1, 2, 3, 4, 5]\n"
     ]
    }
   ],
   "source": [
    "print(array)"
   ]
  },
  {
   "cell_type": "code",
   "execution_count": null,
   "metadata": {},
   "outputs": [],
   "source": []
  }
 ],
 "metadata": {
  "kernelspec": {
   "display_name": "Python 3",
   "language": "python",
   "name": "python3"
  },
  "language_info": {
   "codemirror_mode": {
    "name": "ipython",
    "version": 3
   },
   "file_extension": ".py",
   "mimetype": "text/x-python",
   "name": "python",
   "nbconvert_exporter": "python",
   "pygments_lexer": "ipython3",
   "version": "3.8.5"
  }
 },
 "nbformat": 4,
 "nbformat_minor": 4
}
