{
 "cells": [
  {
   "cell_type": "code",
   "execution_count": 47,
   "metadata": {},
   "outputs": [],
   "source": [
    "#Imports MongoDB into Python if not already imported\n",
    "import pymongo\n",
    "from pymongo import MongoClient\n",
    "client = MongoClient('mongodb://localhost:27017/')"
   ]
  },
  {
   "cell_type": "code",
   "execution_count": 48,
   "metadata": {},
   "outputs": [],
   "source": [
    "#This will create a Collection/Database called books if it doesn't already exist\n",
    "db = client['books']"
   ]
  },
  {
   "cell_type": "code",
   "execution_count": 49,
   "metadata": {},
   "outputs": [],
   "source": [
    "#Names the collection\n",
    "books = db.books"
   ]
  },
  {
   "cell_type": "code",
   "execution_count": 50,
   "metadata": {},
   "outputs": [
    {
     "data": {
      "text/plain": [
       "<pymongo.results.InsertManyResult at 0x1be2b12c640>"
      ]
     },
     "execution_count": 50,
     "metadata": {},
     "output_type": "execute_result"
    }
   ],
   "source": [
    "#Inserts the book data\n",
    "books.insert_many([{\"Book\":\"A Secular Agenda\", \"author\":\"Arun Shourie\"},\n",
    "                  {\"Book\":\"A Suitable Boy\", \"author\":\"Vikram Seth\"},\n",
    "                  {\"Book\":\"Akbarnama\", \"author\":\"Abul Fazal\"},\n",
    "                   {\"Book\":\"An Autobiography\", \"author\":\"Jawaharlal Nehru\"},\n",
    "                   {\"Book\":\"A Commentary and Digest on The Air, Act 1981\", \"author\":\"Apoorva Kumar Singh\"},\n",
    "                   {\"Book\":\"The Bloomsbury Anthology of Great Indian Poems\", \"author\":\"Abhay K.\"},\n",
    "                   {\"Book\":\"Karmayoddha Granth\", \"author\":\"Amit Shah\"},\n",
    "                   {\"Book\":\"War and Peace\", \"author\":\"Leo Tolstoy\"},\n",
    "                   {\"Book\":\"Anna Karenina\", \"author\":\"Leo Tolstoy\"}])"
   ]
  },
  {
   "cell_type": "code",
   "execution_count": 51,
   "metadata": {},
   "outputs": [
    {
     "name": "stdout",
     "output_type": "stream",
     "text": [
      "{'_id': ObjectId('607c5532056c73ea48a4ec1c'), 'author': 'sydney sheldon', 'about': 'Tell me about your dreams', 'tags': ['MPD', 'Murder', 'Mystery']}\n",
      "{'_id': ObjectId('607d563a1f48311a758aa5cb'), 'Book': 'A Secular Agenda', 'Author': 'Arun Shourie'}\n",
      "{'_id': ObjectId('607d563a1f48311a758aa5cc'), 'Book': 'A Suitable Boy', 'Author': 'Vikram Seth'}\n",
      "{'_id': ObjectId('607d563a1f48311a758aa5cd'), 'Book': 'Akbarnama', 'Author': 'Abul Fazal'}\n",
      "{'_id': ObjectId('607d563a1f48311a758aa5ce'), 'Book': 'An Autobiography', 'Author': 'Jawaharlal Nehru'}\n",
      "{'_id': ObjectId('607d563a1f48311a758aa5cf'), 'Book': 'A Commentary and Digest on The Air, Act 1981', 'Author': 'Apoorva Kumar Singh'}\n",
      "{'_id': ObjectId('607d563a1f48311a758aa5d0'), 'Book': 'The Bloomsbury Anthology of Great Indian Poems', 'Author': 'Abhay K.'}\n",
      "{'_id': ObjectId('607d563a1f48311a758aa5d1'), 'Book': 'Karmayoddha Granth', 'Author': 'Amit Shah'}\n",
      "{'_id': ObjectId('607d57301f48311a758aa5d2'), 'Book': 'A Secular Agenda', 'Author': 'Arun Shourie'}\n",
      "{'_id': ObjectId('607d57301f48311a758aa5d3'), 'Book': 'A Suitable Boy', 'Author': 'Vikram Seth'}\n",
      "{'_id': ObjectId('607d57301f48311a758aa5d4'), 'Book': 'Akbarnama', 'Author': 'Abul Fazal'}\n",
      "{'_id': ObjectId('607d57301f48311a758aa5d5'), 'Book': 'An Autobiography', 'Author': 'Jawaharlal Nehru'}\n",
      "{'_id': ObjectId('607d57301f48311a758aa5d6'), 'Book': 'A Commentary and Digest on The Air, Act 1981', 'Author': 'Apoorva Kumar Singh'}\n",
      "{'_id': ObjectId('607d57301f48311a758aa5d7'), 'Book': 'The Bloomsbury Anthology of Great Indian Poems', 'Author': 'Abhay K.'}\n",
      "{'_id': ObjectId('607d57301f48311a758aa5d8'), 'Book': 'Karmayoddha Granth', 'Author': 'Amit Shah'}\n",
      "{'_id': ObjectId('607d57301f48311a758aa5d9'), 'Book': 'War and Peace', 'Author': ' Leo Tolstoy'}\n",
      "{'_id': ObjectId('607d57301f48311a758aa5da'), 'Book': 'Anna Karenina', 'Author': ' Leo Tolstoy'}\n",
      "{'_id': ObjectId('607d57891f48311a758aa5db'), 'Book': 'A Secular Agenda', 'Author': 'Arun Shourie'}\n",
      "{'_id': ObjectId('607d57891f48311a758aa5dc'), 'Book': 'A Suitable Boy', 'Author': 'Vikram Seth'}\n",
      "{'_id': ObjectId('607d57891f48311a758aa5dd'), 'Book': 'Akbarnama', 'Author': 'Abul Fazal'}\n",
      "{'_id': ObjectId('607d57891f48311a758aa5de'), 'Book': 'An Autobiography', 'Author': 'Jawaharlal Nehru'}\n",
      "{'_id': ObjectId('607d57891f48311a758aa5df'), 'Book': 'A Commentary and Digest on The Air, Act 1981', 'Author': 'Apoorva Kumar Singh'}\n",
      "{'_id': ObjectId('607d57891f48311a758aa5e0'), 'Book': 'The Bloomsbury Anthology of Great Indian Poems', 'Author': 'Abhay K.'}\n",
      "{'_id': ObjectId('607d57891f48311a758aa5e1'), 'Book': 'Karmayoddha Granth', 'Author': 'Amit Shah'}\n",
      "{'_id': ObjectId('607d57891f48311a758aa5e2'), 'Book': 'War and Peace', 'Author': ' Leo Tolstoy'}\n",
      "{'_id': ObjectId('607d57891f48311a758aa5e3'), 'Book': 'Anna Karenina', 'Author': ' Leo Tolstoy'}\n",
      "{'_id': ObjectId('607d57dc1f48311a758aa5e4'), 'Book': 'A Secular Agenda', 'Author': 'Arun Shourie'}\n",
      "{'_id': ObjectId('607d57dc1f48311a758aa5e5'), 'Book': 'A Suitable Boy', 'Author': 'Vikram Seth'}\n",
      "{'_id': ObjectId('607d57dc1f48311a758aa5e6'), 'Book': 'Akbarnama', 'Author': 'Abul Fazal'}\n",
      "{'_id': ObjectId('607d57dc1f48311a758aa5e7'), 'Book': 'An Autobiography', 'Author': 'Jawaharlal Nehru'}\n",
      "{'_id': ObjectId('607d57dc1f48311a758aa5e8'), 'Book': 'A Commentary and Digest on The Air, Act 1981', 'Author': 'Apoorva Kumar Singh'}\n",
      "{'_id': ObjectId('607d57dc1f48311a758aa5e9'), 'Book': 'The Bloomsbury Anthology of Great Indian Poems', 'Author': 'Abhay K.'}\n",
      "{'_id': ObjectId('607d57dc1f48311a758aa5ea'), 'Book': 'Karmayoddha Granth', 'Author': 'Amit Shah'}\n",
      "{'_id': ObjectId('607d57dc1f48311a758aa5eb'), 'Book': 'War and Peace', 'Author': 'Leo Tolstoy'}\n",
      "{'_id': ObjectId('607d57dc1f48311a758aa5ec'), 'Book': 'Anna Karenina', 'Author': 'Leo Tolstoy'}\n",
      "{'_id': ObjectId('607d58a11f48311a758aa5ed'), 'Book': 'A Secular Agenda', 'Author': 'Arun Shourie'}\n",
      "{'_id': ObjectId('607d58a11f48311a758aa5ee'), 'Book': 'A Suitable Boy', 'Author': 'Vikram Seth'}\n",
      "{'_id': ObjectId('607d58a11f48311a758aa5ef'), 'Book': 'Akbarnama', 'Author': 'Abul Fazal'}\n",
      "{'_id': ObjectId('607d58a11f48311a758aa5f0'), 'Book': 'An Autobiography', 'Author': 'Jawaharlal Nehru'}\n",
      "{'_id': ObjectId('607d58a11f48311a758aa5f1'), 'Book': 'A Commentary and Digest on The Air, Act 1981', 'Author': 'Apoorva Kumar Singh'}\n",
      "{'_id': ObjectId('607d58a11f48311a758aa5f2'), 'Book': 'The Bloomsbury Anthology of Great Indian Poems', 'Author': 'Abhay K.'}\n",
      "{'_id': ObjectId('607d58a11f48311a758aa5f3'), 'Book': 'Karmayoddha Granth', 'Author': 'Amit Shah'}\n",
      "{'_id': ObjectId('607d58a11f48311a758aa5f4'), 'Book': 'War and Peace', 'Author': 'Leo Tolstoy'}\n",
      "{'_id': ObjectId('607d58a11f48311a758aa5f5'), 'Book': 'Anna Karenina', 'Author': 'Leo Tolstoy'}\n",
      "{'_id': ObjectId('607d5c0c1f48311a758aa5f6'), 'Book': 'A Secular Agenda', 'author': 'Arun Shourie'}\n",
      "{'_id': ObjectId('607d5c0c1f48311a758aa5f7'), 'Book': 'A Suitable Boy', 'author': 'Vikram Seth'}\n",
      "{'_id': ObjectId('607d5c0c1f48311a758aa5f8'), 'Book': 'Akbarnama', 'author': 'Abul Fazal'}\n",
      "{'_id': ObjectId('607d5c0c1f48311a758aa5f9'), 'Book': 'An Autobiography', 'author': 'Jawaharlal Nehru'}\n",
      "{'_id': ObjectId('607d5c0c1f48311a758aa5fa'), 'Book': 'A Commentary and Digest on The Air, Act 1981', 'author': 'Apoorva Kumar Singh'}\n",
      "{'_id': ObjectId('607d5c0c1f48311a758aa5fb'), 'Book': 'The Bloomsbury Anthology of Great Indian Poems', 'author': 'Abhay K.'}\n",
      "{'_id': ObjectId('607d5c0c1f48311a758aa5fc'), 'Book': 'Karmayoddha Granth', 'author': 'Amit Shah'}\n",
      "{'_id': ObjectId('607d5c0c1f48311a758aa5fd'), 'Book': 'War and Peace', 'author': 'Leo Tolstoy'}\n",
      "{'_id': ObjectId('607d5c0c1f48311a758aa5fe'), 'Book': 'Anna Karenina', 'author': 'Leo Tolstoy'}\n",
      "{'_id': ObjectId('607d5c211f48311a758aa600'), 'Book': 'A Secular Agenda', 'author': 'Arun Shourie'}\n",
      "{'_id': ObjectId('607d5c211f48311a758aa601'), 'Book': 'A Suitable Boy', 'author': 'Vikram Seth'}\n",
      "{'_id': ObjectId('607d5c211f48311a758aa602'), 'Book': 'Akbarnama', 'author': 'Abul Fazal'}\n",
      "{'_id': ObjectId('607d5c211f48311a758aa603'), 'Book': 'An Autobiography', 'author': 'Jawaharlal Nehru'}\n",
      "{'_id': ObjectId('607d5c211f48311a758aa604'), 'Book': 'A Commentary and Digest on The Air, Act 1981', 'author': 'Apoorva Kumar Singh'}\n",
      "{'_id': ObjectId('607d5c211f48311a758aa605'), 'Book': 'The Bloomsbury Anthology of Great Indian Poems', 'author': 'Abhay K.'}\n",
      "{'_id': ObjectId('607d5c211f48311a758aa606'), 'Book': 'Karmayoddha Granth', 'author': 'Amit Shah'}\n",
      "{'_id': ObjectId('607d5c211f48311a758aa607'), 'Book': 'War and Peace', 'author': 'Leo Tolstoy'}\n",
      "{'_id': ObjectId('607d5c211f48311a758aa608'), 'Book': 'Anna Karenina', 'author': 'Leo Tolstoy'}\n"
     ]
    }
   ],
   "source": [
    "#Finds and list all of the books\n",
    "for book in books.find():\n",
    "    print(book)"
   ]
  },
  {
   "cell_type": "code",
   "execution_count": 52,
   "metadata": {},
   "outputs": [
    {
     "data": {
      "text/plain": [
       "{'_id': ObjectId('607d563a1f48311a758aa5ce'),\n",
       " 'Book': 'An Autobiography',\n",
       " 'Author': 'Jawaharlal Nehru'}"
      ]
     },
     "execution_count": 52,
     "metadata": {},
     "output_type": "execute_result"
    }
   ],
   "source": [
    "#Selects all of the books by a single author\n",
    "books.find_one({\"Author\":\"Jawaharlal Nehru\"})"
   ]
  },
  {
   "cell_type": "code",
   "execution_count": 53,
   "metadata": {},
   "outputs": [
    {
     "name": "stdout",
     "output_type": "stream",
     "text": [
      "_id\n",
      "Book\n",
      "Author\n"
     ]
    }
   ],
   "source": [
    "#Selects all of the books by a single author\n",
    "for book in books.find_one({\"Author\":\"Amit Shah\"}):\n",
    "    print(book)"
   ]
  },
  {
   "cell_type": "code",
   "execution_count": 54,
   "metadata": {},
   "outputs": [
    {
     "name": "stdout",
     "output_type": "stream",
     "text": [
      "{'_id': ObjectId('607c5532056c73ea48a4ec1c'), 'author': 'sydney sheldon', 'about': 'Tell me about your dreams', 'tags': ['MPD', 'Murder', 'Mystery']}\n",
      "{'_id': ObjectId('607d5c0c1f48311a758aa5f6'), 'Book': 'A Secular Agenda', 'author': 'Arun Shourie'}\n",
      "{'_id': ObjectId('607d5c0c1f48311a758aa5f7'), 'Book': 'A Suitable Boy', 'author': 'Vikram Seth'}\n",
      "{'_id': ObjectId('607d5c0c1f48311a758aa5f8'), 'Book': 'Akbarnama', 'author': 'Abul Fazal'}\n",
      "{'_id': ObjectId('607d5c0c1f48311a758aa5f9'), 'Book': 'An Autobiography', 'author': 'Jawaharlal Nehru'}\n",
      "{'_id': ObjectId('607d5c0c1f48311a758aa5fa'), 'Book': 'A Commentary and Digest on The Air, Act 1981', 'author': 'Apoorva Kumar Singh'}\n",
      "{'_id': ObjectId('607d5c0c1f48311a758aa5fb'), 'Book': 'The Bloomsbury Anthology of Great Indian Poems', 'author': 'Abhay K.'}\n",
      "{'_id': ObjectId('607d5c0c1f48311a758aa5fc'), 'Book': 'Karmayoddha Granth', 'author': 'Amit Shah'}\n",
      "{'_id': ObjectId('607d5c0c1f48311a758aa5fd'), 'Book': 'War and Peace', 'author': 'Leo Tolstoy'}\n",
      "{'_id': ObjectId('607d5c0c1f48311a758aa5fe'), 'Book': 'Anna Karenina', 'author': 'Leo Tolstoy'}\n",
      "{'_id': ObjectId('607d5c211f48311a758aa600'), 'Book': 'A Secular Agenda', 'author': 'Arun Shourie'}\n",
      "{'_id': ObjectId('607d5c211f48311a758aa601'), 'Book': 'A Suitable Boy', 'author': 'Vikram Seth'}\n",
      "{'_id': ObjectId('607d5c211f48311a758aa602'), 'Book': 'Akbarnama', 'author': 'Abul Fazal'}\n",
      "{'_id': ObjectId('607d5c211f48311a758aa603'), 'Book': 'An Autobiography', 'author': 'Jawaharlal Nehru'}\n",
      "{'_id': ObjectId('607d5c211f48311a758aa604'), 'Book': 'A Commentary and Digest on The Air, Act 1981', 'author': 'Apoorva Kumar Singh'}\n",
      "{'_id': ObjectId('607d5c211f48311a758aa605'), 'Book': 'The Bloomsbury Anthology of Great Indian Poems', 'author': 'Abhay K.'}\n",
      "{'_id': ObjectId('607d5c211f48311a758aa606'), 'Book': 'Karmayoddha Granth', 'author': 'Amit Shah'}\n",
      "{'_id': ObjectId('607d5c211f48311a758aa607'), 'Book': 'War and Peace', 'author': 'Leo Tolstoy'}\n",
      "{'_id': ObjectId('607d5c211f48311a758aa608'), 'Book': 'Anna Karenina', 'author': 'Leo Tolstoy'}\n",
      "{'_id': ObjectId('607d57301f48311a758aa5d9'), 'Book': 'War and Peace', 'Author': ' Leo Tolstoy'}\n",
      "{'_id': ObjectId('607d57301f48311a758aa5da'), 'Book': 'Anna Karenina', 'Author': ' Leo Tolstoy'}\n",
      "{'_id': ObjectId('607d57891f48311a758aa5e2'), 'Book': 'War and Peace', 'Author': ' Leo Tolstoy'}\n",
      "{'_id': ObjectId('607d57891f48311a758aa5e3'), 'Book': 'Anna Karenina', 'Author': ' Leo Tolstoy'}\n",
      "{'_id': ObjectId('607d563a1f48311a758aa5d0'), 'Book': 'The Bloomsbury Anthology of Great Indian Poems', 'Author': 'Abhay K.'}\n",
      "{'_id': ObjectId('607d57301f48311a758aa5d7'), 'Book': 'The Bloomsbury Anthology of Great Indian Poems', 'Author': 'Abhay K.'}\n",
      "{'_id': ObjectId('607d57891f48311a758aa5e0'), 'Book': 'The Bloomsbury Anthology of Great Indian Poems', 'Author': 'Abhay K.'}\n",
      "{'_id': ObjectId('607d57dc1f48311a758aa5e9'), 'Book': 'The Bloomsbury Anthology of Great Indian Poems', 'Author': 'Abhay K.'}\n",
      "{'_id': ObjectId('607d58a11f48311a758aa5f2'), 'Book': 'The Bloomsbury Anthology of Great Indian Poems', 'Author': 'Abhay K.'}\n",
      "{'_id': ObjectId('607d563a1f48311a758aa5cd'), 'Book': 'Akbarnama', 'Author': 'Abul Fazal'}\n",
      "{'_id': ObjectId('607d57301f48311a758aa5d4'), 'Book': 'Akbarnama', 'Author': 'Abul Fazal'}\n",
      "{'_id': ObjectId('607d57891f48311a758aa5dd'), 'Book': 'Akbarnama', 'Author': 'Abul Fazal'}\n",
      "{'_id': ObjectId('607d57dc1f48311a758aa5e6'), 'Book': 'Akbarnama', 'Author': 'Abul Fazal'}\n",
      "{'_id': ObjectId('607d58a11f48311a758aa5ef'), 'Book': 'Akbarnama', 'Author': 'Abul Fazal'}\n",
      "{'_id': ObjectId('607d563a1f48311a758aa5d1'), 'Book': 'Karmayoddha Granth', 'Author': 'Amit Shah'}\n",
      "{'_id': ObjectId('607d57301f48311a758aa5d8'), 'Book': 'Karmayoddha Granth', 'Author': 'Amit Shah'}\n",
      "{'_id': ObjectId('607d57891f48311a758aa5e1'), 'Book': 'Karmayoddha Granth', 'Author': 'Amit Shah'}\n",
      "{'_id': ObjectId('607d57dc1f48311a758aa5ea'), 'Book': 'Karmayoddha Granth', 'Author': 'Amit Shah'}\n",
      "{'_id': ObjectId('607d58a11f48311a758aa5f3'), 'Book': 'Karmayoddha Granth', 'Author': 'Amit Shah'}\n",
      "{'_id': ObjectId('607d563a1f48311a758aa5cf'), 'Book': 'A Commentary and Digest on The Air, Act 1981', 'Author': 'Apoorva Kumar Singh'}\n",
      "{'_id': ObjectId('607d57301f48311a758aa5d6'), 'Book': 'A Commentary and Digest on The Air, Act 1981', 'Author': 'Apoorva Kumar Singh'}\n",
      "{'_id': ObjectId('607d57891f48311a758aa5df'), 'Book': 'A Commentary and Digest on The Air, Act 1981', 'Author': 'Apoorva Kumar Singh'}\n",
      "{'_id': ObjectId('607d57dc1f48311a758aa5e8'), 'Book': 'A Commentary and Digest on The Air, Act 1981', 'Author': 'Apoorva Kumar Singh'}\n",
      "{'_id': ObjectId('607d58a11f48311a758aa5f1'), 'Book': 'A Commentary and Digest on The Air, Act 1981', 'Author': 'Apoorva Kumar Singh'}\n",
      "{'_id': ObjectId('607d563a1f48311a758aa5cb'), 'Book': 'A Secular Agenda', 'Author': 'Arun Shourie'}\n",
      "{'_id': ObjectId('607d57301f48311a758aa5d2'), 'Book': 'A Secular Agenda', 'Author': 'Arun Shourie'}\n",
      "{'_id': ObjectId('607d57891f48311a758aa5db'), 'Book': 'A Secular Agenda', 'Author': 'Arun Shourie'}\n",
      "{'_id': ObjectId('607d57dc1f48311a758aa5e4'), 'Book': 'A Secular Agenda', 'Author': 'Arun Shourie'}\n",
      "{'_id': ObjectId('607d58a11f48311a758aa5ed'), 'Book': 'A Secular Agenda', 'Author': 'Arun Shourie'}\n",
      "{'_id': ObjectId('607d563a1f48311a758aa5ce'), 'Book': 'An Autobiography', 'Author': 'Jawaharlal Nehru'}\n",
      "{'_id': ObjectId('607d57301f48311a758aa5d5'), 'Book': 'An Autobiography', 'Author': 'Jawaharlal Nehru'}\n",
      "{'_id': ObjectId('607d57891f48311a758aa5de'), 'Book': 'An Autobiography', 'Author': 'Jawaharlal Nehru'}\n",
      "{'_id': ObjectId('607d57dc1f48311a758aa5e7'), 'Book': 'An Autobiography', 'Author': 'Jawaharlal Nehru'}\n",
      "{'_id': ObjectId('607d58a11f48311a758aa5f0'), 'Book': 'An Autobiography', 'Author': 'Jawaharlal Nehru'}\n",
      "{'_id': ObjectId('607d57dc1f48311a758aa5eb'), 'Book': 'War and Peace', 'Author': 'Leo Tolstoy'}\n",
      "{'_id': ObjectId('607d57dc1f48311a758aa5ec'), 'Book': 'Anna Karenina', 'Author': 'Leo Tolstoy'}\n",
      "{'_id': ObjectId('607d58a11f48311a758aa5f4'), 'Book': 'War and Peace', 'Author': 'Leo Tolstoy'}\n",
      "{'_id': ObjectId('607d58a11f48311a758aa5f5'), 'Book': 'Anna Karenina', 'Author': 'Leo Tolstoy'}\n",
      "{'_id': ObjectId('607d563a1f48311a758aa5cc'), 'Book': 'A Suitable Boy', 'Author': 'Vikram Seth'}\n",
      "{'_id': ObjectId('607d57301f48311a758aa5d3'), 'Book': 'A Suitable Boy', 'Author': 'Vikram Seth'}\n",
      "{'_id': ObjectId('607d57891f48311a758aa5dc'), 'Book': 'A Suitable Boy', 'Author': 'Vikram Seth'}\n",
      "{'_id': ObjectId('607d57dc1f48311a758aa5e5'), 'Book': 'A Suitable Boy', 'Author': 'Vikram Seth'}\n",
      "{'_id': ObjectId('607d58a11f48311a758aa5ee'), 'Book': 'A Suitable Boy', 'Author': 'Vikram Seth'}\n"
     ]
    }
   ],
   "source": [
    "#Selects and lists all the books by a single author by just the title\n",
    "for book in books.find().sort([(\"Author\",pymongo.ASCENDING)]):\n",
    "    print(book)"
   ]
  },
  {
   "cell_type": "code",
   "execution_count": 55,
   "metadata": {},
   "outputs": [],
   "source": [
    "#Orders and lists all the books in ASCENDING order by the previous authors\n",
    "pipeline = [{\"$group\":{\"_id\":\"$Author\",\"count\":{\"$sum\":1}}}]\n",
    "grp_books=db.books.aggregate(pipeline)"
   ]
  },
  {
   "cell_type": "code",
   "execution_count": 56,
   "metadata": {},
   "outputs": [
    {
     "name": "stdout",
     "output_type": "stream",
     "text": [
      "{'_id': 'Jawaharlal Nehru', 'count': 5}\n",
      "{'_id': 'Vikram Seth', 'count': 5}\n",
      "{'_id': 'Leo Tolstoy', 'count': 4}\n",
      "{'_id': None, 'count': 19}\n",
      "{'_id': 'Apoorva Kumar Singh', 'count': 5}\n",
      "{'_id': 'Amit Shah', 'count': 5}\n",
      "{'_id': 'Arun Shourie', 'count': 5}\n",
      "{'_id': 'Abul Fazal', 'count': 5}\n",
      "{'_id': 'Abhay K.', 'count': 5}\n",
      "{'_id': ' Leo Tolstoy', 'count': 4}\n"
     ]
    }
   ],
   "source": [
    "#Groups and counts the number of books from each of the two authors and places the data in a pipeline.\n",
    "for group in grp_books:\n",
    "    print(group)"
   ]
  },
  {
   "cell_type": "code",
   "execution_count": 57,
   "metadata": {},
   "outputs": [],
   "source": [
    "#Prints the authors name and the number of the books in the collection\n"
   ]
  },
  {
   "cell_type": "code",
   "execution_count": null,
   "metadata": {},
   "outputs": [],
   "source": []
  }
 ],
 "metadata": {
  "kernelspec": {
   "display_name": "Python 3",
   "language": "python",
   "name": "python3"
  },
  "language_info": {
   "codemirror_mode": {
    "name": "ipython",
    "version": 3
   },
   "file_extension": ".py",
   "mimetype": "text/x-python",
   "name": "python",
   "nbconvert_exporter": "python",
   "pygments_lexer": "ipython3",
   "version": "3.8.5"
  }
 },
 "nbformat": 4,
 "nbformat_minor": 4
}
