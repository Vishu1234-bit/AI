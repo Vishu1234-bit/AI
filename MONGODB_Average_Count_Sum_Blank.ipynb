{
 "cells": [
  {
   "cell_type": "code",
   "execution_count": 2,
   "metadata": {},
   "outputs": [],
   "source": [
    "#This line will import Mongo to this Python notebook. Nothing will happen if this import has alred been done\n",
    "import pymongo\n",
    "from pymongo import MongoClient\n",
    "client = MongoClient('mongodb://localhost:27017/')"
   ]
  },
  {
   "cell_type": "code",
   "execution_count": 3,
   "metadata": {},
   "outputs": [],
   "source": [
    "#This will create a Collection/Database called \"employees\" if it doesn't already exist\n",
    "db = client['employee']"
   ]
  },
  {
   "cell_type": "code",
   "execution_count": 4,
   "metadata": {},
   "outputs": [],
   "source": [
    "#This line provides the MongoDB name for the Collection/Database \"employees\"\n",
    "employee = db.employee"
   ]
  },
  {
   "cell_type": "code",
   "execution_count": 39,
   "metadata": {},
   "outputs": [
    {
     "data": {
      "text/plain": [
       "<pymongo.results.InsertManyResult at 0x2262486d340>"
      ]
     },
     "execution_count": 39,
     "metadata": {},
     "output_type": "execute_result"
    }
   ],
   "source": [
    "#This line inserts employee data into db.employees database\n",
    "db.employee.insert_many([{\"name\":\"Ramu\",\"department\":\"Manager\",\"Salary\":4900000},\n",
    "                     {\"name\":\"Chithra\",\"department\":\"Testing\",\"Salary\":1200000},\n",
    "                     {\"name\":\"Saranya\",\"department\":\"Engineer\",\"Salary\":1000000},\n",
    "                     {\"name\":\"Natesh\",\"department\":\"Engineer\",\"Salary\":1000000}])"
   ]
  },
  {
   "cell_type": "code",
   "execution_count": 6,
   "metadata": {},
   "outputs": [
    {
     "name": "stdout",
     "output_type": "stream",
     "text": [
      "{'_id': ObjectId('607d5ee6b6ce9ee74e052a95'), 'name': 'Ramu', 'department': 'Manager', 'Salary': 4900000}\n",
      "{'_id': ObjectId('607d5ee6b6ce9ee74e052a96'), 'name': 'Chithra', 'department': 'Testing', 'Salary': 1200000}\n",
      "{'_id': ObjectId('607d5ee6b6ce9ee74e052a97'), 'name': 'Saranya', 'department': 'Engineer', 'Salary': 1000000}\n",
      "{'_id': ObjectId('607d5ee6b6ce9ee74e052a98'), 'name': 'Natesh', 'department': 'Engineer', 'Salary': 1000000}\n"
     ]
    }
   ],
   "source": [
    "#This finds and prints out all of the employees, their departments and their salaries\n",
    "for emp in employee.find():\n",
    "    print(emp)\n"
   ]
  },
  {
   "cell_type": "markdown",
   "metadata": {},
   "source": [
    "### To get the total number of records in the collection"
   ]
  },
  {
   "cell_type": "code",
   "execution_count": 28,
   "metadata": {},
   "outputs": [],
   "source": [
    "pipeline = [{\"$group\":{\"_id\":None,\"count\":{\"$sum\":1}}}]\n",
    "grp_employee = db.employee.aggregate(pipeline)"
   ]
  },
  {
   "cell_type": "code",
   "execution_count": 29,
   "metadata": {},
   "outputs": [
    {
     "name": "stdout",
     "output_type": "stream",
     "text": [
      "{'_id': None, 'count': 4}\n"
     ]
    }
   ],
   "source": [
    "for employee in grp_employee:\n",
    "    print(employee)"
   ]
  },
  {
   "cell_type": "markdown",
   "metadata": {},
   "source": [
    "### To group by department and get the total salary for each department"
   ]
  },
  {
   "cell_type": "code",
   "execution_count": 30,
   "metadata": {},
   "outputs": [],
   "source": [
    "pipeline = [{\"$group\":{\"_id\":\"$department\",\"Salary\":{\"$sum\":\"$Salary\"}}}]\n",
    "grp_employee = db.employee.aggregate(pipeline)\n"
   ]
  },
  {
   "cell_type": "code",
   "execution_count": 31,
   "metadata": {},
   "outputs": [
    {
     "name": "stdout",
     "output_type": "stream",
     "text": [
      "{'_id': 'Manager', 'Salary': 4900000}\n",
      "{'_id': 'Testing', 'Salary': 1200000}\n",
      "{'_id': 'Engineer', 'Salary': 2000000}\n"
     ]
    }
   ],
   "source": [
    "for employee in grp_employee:\n",
    "    print(employee)"
   ]
  },
  {
   "cell_type": "markdown",
   "metadata": {},
   "source": [
    "### To group by department and get the average salary for each department"
   ]
  },
  {
   "cell_type": "code",
   "execution_count": 32,
   "metadata": {},
   "outputs": [],
   "source": [
    "pipeline = [{\"$group\":{\"_id\":\"$department\",\"Salary\":{\"$avg\":\"$Salary\"}}}]\n",
    "grp_employee = db.employee.aggregate(pipeline)\n",
    "\n"
   ]
  },
  {
   "cell_type": "code",
   "execution_count": 33,
   "metadata": {},
   "outputs": [
    {
     "name": "stdout",
     "output_type": "stream",
     "text": [
      "{'_id': 'Manager', 'Salary': 4900000.0}\n",
      "{'_id': 'Testing', 'Salary': 1200000.0}\n",
      "{'_id': 'Engineer', 'Salary': 1000000.0}\n"
     ]
    }
   ],
   "source": [
    "for employee in grp_employee:\n",
    "    print(employee)"
   ]
  },
  {
   "cell_type": "markdown",
   "metadata": {},
   "source": [
    "### To get the employees with the lowest salary"
   ]
  },
  {
   "cell_type": "code",
   "execution_count": 48,
   "metadata": {},
   "outputs": [],
   "source": [
    "\n",
    "pipeline = [{\"$group\":{\"_id\":None,\"Minimum Salary\":{\"$min\":\"$Salary\"}}}]\n",
    "grp_employee = db.employee.aggregate(pipeline)\n"
   ]
  },
  {
   "cell_type": "code",
   "execution_count": 50,
   "metadata": {},
   "outputs": [],
   "source": [
    "for employee in grp_employee:\n",
    "    print(employee)\n"
   ]
  },
  {
   "cell_type": "code",
   "execution_count": null,
   "metadata": {},
   "outputs": [],
   "source": []
  },
  {
   "cell_type": "code",
   "execution_count": null,
   "metadata": {},
   "outputs": [],
   "source": []
  }
 ],
 "metadata": {
  "kernelspec": {
   "display_name": "Python 3",
   "language": "python",
   "name": "python3"
  },
  "language_info": {
   "codemirror_mode": {
    "name": "ipython",
    "version": 3
   },
   "file_extension": ".py",
   "mimetype": "text/x-python",
   "name": "python",
   "nbconvert_exporter": "python",
   "pygments_lexer": "ipython3",
   "version": "3.8.5"
  }
 },
 "nbformat": 4,
 "nbformat_minor": 4
}
