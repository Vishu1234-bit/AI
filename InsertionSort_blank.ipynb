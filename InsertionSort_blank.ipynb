{
 "cells": [
  {
   "cell_type": "code",
   "execution_count": 16,
   "metadata": {},
   "outputs": [],
   "source": [
    "#Defines arrary\n",
    "def insertionsort(array):\n",
    "    for i in range(1,len(array)):\n",
    "        print(i)\n",
    "        curnum=array[i]\n",
    "        print(\"curnum=\",curnum)\n",
    "        while(i>0 and array[i-1]>curnum):\n",
    "            print(i,\">0 and \",array[i-1],\">\",curnum)\n",
    "            array[i]=array[i-1]\n",
    "            print(array)\n",
    "            i=i-1\n",
    "            print(i)\n",
    "            array[i]=curnum\n",
    "            print(array)\n",
    "\n",
    "        #current number to be compared\n",
    "\n",
    "       \n",
    "\n",
    "       #compare curNum with the sorted part of the array and insert curNum\n",
    "\n",
    "        "
   ]
  },
  {
   "cell_type": "code",
   "execution_count": 17,
   "metadata": {},
   "outputs": [],
   "source": [
    "array=[16,23,43,1,31,8]"
   ]
  },
  {
   "cell_type": "code",
   "execution_count": 18,
   "metadata": {},
   "outputs": [
    {
     "name": "stdout",
     "output_type": "stream",
     "text": [
      "Unsorted array\n"
     ]
    }
   ],
   "source": [
    "print(\"Unsorted array\")"
   ]
  },
  {
   "cell_type": "code",
   "execution_count": 19,
   "metadata": {},
   "outputs": [
    {
     "name": "stdout",
     "output_type": "stream",
     "text": [
      "[16, 23, 43, 1, 31, 8]\n"
     ]
    }
   ],
   "source": [
    "print(array)"
   ]
  },
  {
   "cell_type": "code",
   "execution_count": 20,
   "metadata": {},
   "outputs": [
    {
     "name": "stdout",
     "output_type": "stream",
     "text": [
      "Sorted array\n"
     ]
    }
   ],
   "source": [
    "print(\"Sorted array\")"
   ]
  },
  {
   "cell_type": "code",
   "execution_count": 21,
   "metadata": {},
   "outputs": [
    {
     "name": "stdout",
     "output_type": "stream",
     "text": [
      "1\n",
      "curnum= 23\n",
      "2\n",
      "curnum= 43\n",
      "3\n",
      "curnum= 1\n",
      "3 >0 and  43 > 1\n",
      "[16, 23, 43, 43, 31, 8]\n",
      "2\n",
      "[16, 23, 1, 43, 31, 8]\n",
      "2 >0 and  23 > 1\n",
      "[16, 23, 23, 43, 31, 8]\n",
      "1\n",
      "[16, 1, 23, 43, 31, 8]\n",
      "1 >0 and  16 > 1\n",
      "[16, 16, 23, 43, 31, 8]\n",
      "0\n",
      "[1, 16, 23, 43, 31, 8]\n",
      "4\n",
      "curnum= 31\n",
      "4 >0 and  43 > 31\n",
      "[1, 16, 23, 43, 43, 8]\n",
      "3\n",
      "[1, 16, 23, 31, 43, 8]\n",
      "5\n",
      "curnum= 8\n",
      "5 >0 and  43 > 8\n",
      "[1, 16, 23, 31, 43, 43]\n",
      "4\n",
      "[1, 16, 23, 31, 8, 43]\n",
      "4 >0 and  31 > 8\n",
      "[1, 16, 23, 31, 31, 43]\n",
      "3\n",
      "[1, 16, 23, 8, 31, 43]\n",
      "3 >0 and  23 > 8\n",
      "[1, 16, 23, 23, 31, 43]\n",
      "2\n",
      "[1, 16, 8, 23, 31, 43]\n",
      "2 >0 and  16 > 8\n",
      "[1, 16, 16, 23, 31, 43]\n",
      "1\n",
      "[1, 8, 16, 23, 31, 43]\n"
     ]
    }
   ],
   "source": [
    "insertionsort(array)"
   ]
  },
  {
   "cell_type": "code",
   "execution_count": 22,
   "metadata": {},
   "outputs": [
    {
     "name": "stdout",
     "output_type": "stream",
     "text": [
      "[1, 8, 16, 23, 31, 43]\n"
     ]
    }
   ],
   "source": [
    "print(array)"
   ]
  },
  {
   "cell_type": "code",
   "execution_count": null,
   "metadata": {},
   "outputs": [],
   "source": []
  }
 ],
 "metadata": {
  "kernelspec": {
   "display_name": "Python 3",
   "language": "python",
   "name": "python3"
  },
  "language_info": {
   "codemirror_mode": {
    "name": "ipython",
    "version": 3
   },
   "file_extension": ".py",
   "mimetype": "text/x-python",
   "name": "python",
   "nbconvert_exporter": "python",
   "pygments_lexer": "ipython3",
   "version": "3.8.5"
  }
 },
 "nbformat": 4,
 "nbformat_minor": 4
}
